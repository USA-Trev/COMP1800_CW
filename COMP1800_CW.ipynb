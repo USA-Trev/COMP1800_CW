{
  "nbformat": 4,
  "nbformat_minor": 0,
  "metadata": {
    "colab": {
      "name": "COMP1800_CW.ipynb",
      "provenance": [],
      "collapsed_sections": []
    },
    "kernelspec": {
      "name": "python3",
      "display_name": "Python 3"
    }
  },
  "cells": [
    {
      "cell_type": "code",
      "metadata": {
        "id": "Kiq-GjT5fQ3u",
        "colab_type": "code",
        "colab": {}
      },
      "source": [
        "import sys\n",
        "!{sys.executable} -m pip install \"hvplot==0.5.2\" \"holoviews==1.12.7\" \"bokeh==1.4.0\" \"panel==0.7.0\""
      ],
      "execution_count": null,
      "outputs": []
    },
    {
      "cell_type": "code",
      "metadata": {
        "id": "Khf0LyrXforS",
        "colab_type": "code",
        "colab": {}
      },
      "source": [
        "import numpy as np\n",
        "import pandas as pd\n",
        "import hvplot.pandas\n",
        "import seaborn as sns\n",
        "import matplotlib.pyplot as plt\n",
        "import matplotlib.dates as mdates"
      ],
      "execution_count": null,
      "outputs": []
    },
    {
      "cell_type": "markdown",
      "metadata": {
        "id": "6LtsAAuzSLJV",
        "colab_type": "text"
      },
      "source": [
        "Reading in the data from all the datafiles and printing it to view the formatting of each file."
      ]
    },
    {
      "cell_type": "code",
      "metadata": {
        "id": "dNe0AOLWfvMy",
        "colab_type": "code",
        "colab": {}
      },
      "source": [
        "data_DailyCustomers = pd.read_csv('DailyCustomers.csv', index_col=0)\n",
        "data_DailyCustomers.index = pd.to_datetime(data_DailyCustomers.index)\n",
        "\n",
        "data_Marketing = pd.read_csv('StoreMarketing.csv', index_col=0)\n",
        "data_Overheads = pd.read_csv('StoreOverheads.csv', index_col=0)\n",
        "data_Size = pd.read_csv('StoreSize.csv', index_col=0)\n",
        "data_Staff = pd.read_csv('StoreStaff.csv', index_col=0)\n",
        "\n",
        "print(data_DailyCustomers.head())\n",
        "print(data_Marketing.head())\n",
        "print(data_Overheads.head())\n",
        "print(data_Size.head())\n",
        "print(data_Staff.head())"
      ],
      "execution_count": null,
      "outputs": []
    },
    {
      "cell_type": "markdown",
      "metadata": {
        "id": "bPKTpIBOzlHD",
        "colab_type": "text"
      },
      "source": [
        "Sorting the stores by total annual customers to determine large, medium, and small stores to later be used in various segmented plots. Large, medium, and small refers to the annual number of customers for each store; ie. a store with many annual customers is a 'large' store and a store with few annual customers is a 'small' store."
      ]
    },
    {
      "cell_type": "code",
      "metadata": {
        "id": "dJibdh2IQjHW",
        "colab_type": "code",
        "colab": {}
      },
      "source": [
        "Large_Stores = []\n",
        "Medium_Stores = []\n",
        "Small_Stores = []\n",
        "categories = ['Large Stores', 'Medium Stores', 'Small Stores']\n",
        "categories_selected = [[] for i in range(len(categories))]\n",
        "for name in data_DailyCustomers.columns:\n",
        "  total_customers = data_DailyCustomers[name].sum()\n",
        "  if total_customers > 300000:\n",
        "    category = 0\n",
        "    Large_Stores.append(name)\n",
        "  elif total_customers > 100000:\n",
        "    category = 1\n",
        "    Medium_Stores.append(name)\n",
        "  else:\n",
        "    category = 2\n",
        "    Small_Stores.append(name)\n",
        "  categories_selected[category].append(name)\n",
        "\n",
        "for i in range(len(categories)):\n",
        "  print(categories[i] + ': ' + str(categories_selected[i]))"
      ],
      "execution_count": null,
      "outputs": []
    },
    {
      "cell_type": "markdown",
      "metadata": {
        "id": "mC2KIjawdRda",
        "colab_type": "text"
      },
      "source": [
        "Bar charts for all stores. This is a simple plot that will visualise the slight differences between the stores in each category based on each store's total annual customers."
      ]
    },
    {
      "cell_type": "code",
      "metadata": {
        "id": "w2oGT5Oedabh",
        "colab_type": "code",
        "colab": {}
      },
      "source": [
        "data_DailyCustomers = data_DailyCustomers.reindex(data_DailyCustomers.sum().sort_values(ascending=False).index, axis=1)\n",
        "\n",
        "for i, selected in enumerate(categories_selected):\n",
        "  plt.figure(figsize=(8, 8))\n",
        "  x_pos = np.arange(len(data_DailyCustomers[selected].columns))\n",
        "  plt.bar(x_pos, data_DailyCustomers[selected].sum(), align='center')\n",
        "  plt.xticks(x_pos, data_DailyCustomers[selected].columns, rotation=45)\n",
        "  plt.xlabel('Stores', fontsize=18)\n",
        "  plt.ylabel('Annual Customers', fontsize=18)\n",
        "  plt.title(categories[i], fontsize=20)\n",
        "  plt.show()"
      ],
      "execution_count": null,
      "outputs": []
    },
    {
      "cell_type": "markdown",
      "metadata": {
        "id": "uHo7FN3IXkqQ",
        "colab_type": "text"
      },
      "source": [
        "Line plots with 14-day rolling average and trendlines for all stores. These plots will highlight the average customer frequency over 2-week periods for each store. The trendlines are a decent indicator of how successful each store will continue to be."
      ]
    },
    {
      "cell_type": "code",
      "metadata": {
        "id": "P-jfJskRVFlk",
        "colab_type": "code",
        "colab": {}
      },
      "source": [
        "pd.plotting.register_matplotlib_converters()\n",
        "\n",
        "period = 14\n",
        "rolling_average = data_DailyCustomers.rolling(window=period).mean()\n",
        "\n",
        "for i, selected in enumerate(categories_selected):\n",
        "  plt.figure(figsize=(14, 14))\n",
        "  plt.plot(data_DailyCustomers[selected], linewidth=0.4)\n",
        "  plt.gca().set_prop_cycle(None)\n",
        "  for name in selected:\n",
        "    x = np.arange(len(data_DailyCustomers[name]))\n",
        "    z = np.polyfit(x, data_DailyCustomers[name], 1)\n",
        "    trend = np.poly1d(z)\n",
        "    plt.plot(data_DailyCustomers.index, trend(x), linestyle='--')\n",
        "  plt.gca().set_prop_cycle(None)\n",
        "  plt.plot(rolling_average[selected], linewidth=1.5)\n",
        "  plt.xlabel('Date', fontsize=18)\n",
        "  plt.ylabel('Number of Customers', fontsize=18)\n",
        "  plt.title(categories[i] + ' w/ 14-day Rolling Averages & Trendlines', fontsize=20)\n",
        "  plt.legend(selected, loc='center left', bbox_to_anchor=(1, 0.5))\n",
        "  plt.show()"
      ],
      "execution_count": null,
      "outputs": []
    },
    {
      "cell_type": "markdown",
      "metadata": {
        "id": "Vv6tYU1-lBYF",
        "colab_type": "text"
      },
      "source": [
        "Pie chart for all stores. A neat way to visualise the percentage of customers that shop at each store. All of the 'small stores' have been compiled into one slice of the pie to prevent cluttering the chart."
      ]
    },
    {
      "cell_type": "code",
      "metadata": {
        "id": "p9E6eEJhlJ0U",
        "colab_type": "code",
        "colab": {}
      },
      "source": [
        "explodeList = []\n",
        "selected = []\n",
        "columns = data_DailyCustomers.columns\n",
        "data_DailyCustomers['Small_Stores'] = [0] * len(data_DailyCustomers.index)\n",
        "for name in columns:\n",
        "  total_customers = data_DailyCustomers[name].sum()\n",
        "  if total_customers > 100000:\n",
        "    selected.append(name)\n",
        "    explodeList.append(0)\n",
        "  else:\n",
        "    data_DailyCustomers['Small_Stores'] += data_DailyCustomers[name]\n",
        "selected.append('Small_Stores')\n",
        "explodeList.append(0.05)\n",
        "\n",
        "plt.figure(figsize=(14, 14))\n",
        "plt.pie(data_DailyCustomers[selected].sum(), labels=selected, autopct='%1.1f%%', startangle=90, explode=explodeList)\n",
        "plt.title('Percentage of Total Customers Handled at each Store', fontsize=20)\n",
        "plt.show()"
      ],
      "execution_count": null,
      "outputs": []
    },
    {
      "cell_type": "markdown",
      "metadata": {
        "id": "FnIVvG8UK_OS",
        "colab_type": "text"
      },
      "source": [
        "Scatter plots for the large and medium stores. These will show if there is any correlation regarding the number of daily customers between 2 stores."
      ]
    },
    {
      "cell_type": "code",
      "metadata": {
        "id": "n3f1FhAaLC2i",
        "colab_type": "code",
        "colab": {}
      },
      "source": [
        "counter = 1\n",
        "fig = plt.figure(figsize=(10, 10))\n",
        "fig.suptitle('Large Store Correlations', fontsize=14, position=(0.5, 1.0))\n",
        "for i, name_i in enumerate(Large_Stores):\n",
        "  for j in range(i + 1, len(Large_Stores)):\n",
        "    name_j = Large_Stores[j]\n",
        "    sub = fig.add_subplot(3, 3, counter)\n",
        "    sub.set_title(name_i + ' vs ' + name_j, fontsize=10)\n",
        "    sub.scatter(data_DailyCustomers[name_i], data_DailyCustomers[name_j], s=1)\n",
        "    counter += 1\n",
        "plt.subplots_adjust(wspace=0.5, hspace=0.5)\n",
        "plt.tight_layout()\n",
        "plt.show()"
      ],
      "execution_count": null,
      "outputs": []
    },
    {
      "cell_type": "code",
      "metadata": {
        "id": "rbtnWZLANaXg",
        "colab_type": "code",
        "colab": {}
      },
      "source": [
        "counter = 1\n",
        "fig = plt.figure(figsize=(12, 12))\n",
        "fig.suptitle('Medium-Customer Store Correlations', fontsize=14, position=(0.5, 1.0))\n",
        "for i, name_i in enumerate(Medium_Stores):\n",
        "  for j in range(i + 1, len(Medium_Stores)):\n",
        "    name_j = Medium_Stores[j]\n",
        "    sub = fig.add_subplot(6, 6, counter)\n",
        "    sub.set_title(name_i + ' vs ' + name_j, fontsize=10)\n",
        "    sub.scatter(data_DailyCustomers[name_i], data_DailyCustomers[name_j], s=1)\n",
        "    counter += 1\n",
        "plt.subplots_adjust(wspace=0.5, hspace=0.5)\n",
        "plt.tight_layout()\n",
        "plt.show()"
      ],
      "execution_count": null,
      "outputs": []
    },
    {
      "cell_type": "markdown",
      "metadata": {
        "id": "AkjsU8bSlFcN",
        "colab_type": "text"
      },
      "source": [
        "Interactive scatter subplots of the large stores. Each subplot compares 2 of the large stores' daily customer data points against each other to determine if there is a correlation. These plots will visualise similar information from the previous plot with the difference being that these plots are interactive."
      ]
    },
    {
      "cell_type": "code",
      "metadata": {
        "id": "H4H5Xex8lFqH",
        "colab_type": "code",
        "colab": {}
      },
      "source": [
        "plot = data_DailyCustomers.hvplot.scatter(\n",
        "    frame_height=300, frame_width=300,\n",
        "    x='RAH', y='QSN', title='RAH vs QSN',\n",
        "    xlim=(600, 1500), ylim=(200, 1400), size=10\n",
        ") + \\\n",
        "data_DailyCustomers.hvplot.scatter(\n",
        "    frame_height=300, frame_width=300,\n",
        "    x='RAH', y='SGA', title='RAH vs SGA',\n",
        "    xlim=(600, 1500), ylim=(200, 1400), size=10\n",
        ") + \\\n",
        "data_DailyCustomers.hvplot.scatter(\n",
        "    frame_height=300, frame_width=300,\n",
        "    x='RAH', y='SMM', title='RAH vs SMM',\n",
        "    xlim=(600, 1500), ylim=(200, 1400), size=10\n",
        ") + \\\n",
        "data_DailyCustomers.hvplot.scatter(\n",
        "    frame_height=300, frame_width=300,\n",
        "    x='QSN', y='SGA', title='QSN vs SGA',\n",
        "    xlim=(600, 1500), ylim=(200, 1400), size=10\n",
        ") + \\\n",
        "data_DailyCustomers.hvplot.scatter(\n",
        "    frame_height=300, frame_width=300,\n",
        "    x='QSN', y='SMM', title='QSN vs SMM',\n",
        "    xlim=(600, 1500), ylim=(200, 1400), size=10\n",
        ") + \\\n",
        "data_DailyCustomers.hvplot.scatter(\n",
        "    frame_height=300, frame_width=300,\n",
        "    x='SGA', y='SMM', title='SGA vs SMM',\n",
        "    xlim=(600, 1500), ylim=(200, 1400), size=10\n",
        ")\n",
        "hvplot.show(plot)"
      ],
      "execution_count": null,
      "outputs": []
    },
    {
      "cell_type": "markdown",
      "metadata": {
        "id": "LW9KrPyLW1mb",
        "colab_type": "text"
      },
      "source": [
        "Heatmap of the large and medium stores. This plot shows the percentage (Pearson Coefficient) of the correlations between each of the large and medium stores' daily customers."
      ]
    },
    {
      "cell_type": "code",
      "metadata": {
        "id": "rUTptDmqW4xk",
        "colab_type": "code",
        "colab": {}
      },
      "source": [
        "pd.plotting.register_matplotlib_converters()\n",
        "\n",
        "large_and_medium = Large_Stores + Medium_Stores\n",
        "\n",
        "plt.figure(figsize=(10, 10))\n",
        "corr = data_DailyCustomers[large_and_medium].corr()\n",
        "ax = sns.heatmap(corr, vmin=-1, vmax=1, center=0, cmap=sns.diverging_palette(220, 20, n=200), square=True, annot=True,\n",
        "                 annot_kws={\"size\": 8})\n",
        "ax.set_xticklabels(ax.get_xticklabels(), rotation=45, horizontalalignment='right')\n",
        "plt.show()"
      ],
      "execution_count": null,
      "outputs": []
    },
    {
      "cell_type": "markdown",
      "metadata": {
        "id": "6J60uHDcAi9w",
        "colab_type": "text"
      },
      "source": [
        "Box plots of large and medium stores. These will show approximate min and max x values to later be used in Histograms."
      ]
    },
    {
      "cell_type": "code",
      "metadata": {
        "id": "nqakAOH-Apv_",
        "colab_type": "code",
        "colab": {}
      },
      "source": [
        "plt.figure(figsize=(8, 8))\n",
        "plt.boxplot(data_DailyCustomers[Large_Stores].transpose(), labels=Large_Stores)\n",
        "plt.xlabel('Stores', fontsize=18)\n",
        "plt.ylabel('Daily Customers', fontsize=18)\n",
        "plt.title('Large Stores Box Plot', fontsize=20)\n",
        "plt.show()"
      ],
      "execution_count": null,
      "outputs": []
    },
    {
      "cell_type": "markdown",
      "metadata": {
        "id": "CnKOjtOmHsRd",
        "colab_type": "text"
      },
      "source": [
        "Large stores:\n",
        "*   x min - 275\n",
        "*   x max - 1600"
      ]
    },
    {
      "cell_type": "code",
      "metadata": {
        "id": "X9ENc88mHa1I",
        "colab_type": "code",
        "colab": {}
      },
      "source": [
        "plt.figure(figsize=(8, 8))\n",
        "plt.boxplot(data_DailyCustomers[Medium_Stores].transpose(), labels=Medium_Stores)\n",
        "plt.xlabel('Stores', fontsize=18)\n",
        "plt.ylabel('Daily Customers', fontsize=18)\n",
        "plt.title('Medium Stores Box Plot', fontsize=20)\n",
        "plt.show()"
      ],
      "execution_count": null,
      "outputs": []
    },
    {
      "cell_type": "markdown",
      "metadata": {
        "id": "pu0r9LcUH23v",
        "colab_type": "text"
      },
      "source": [
        "Medium stores:\n",
        "*   x min - 100\n",
        "*   x max - 700"
      ]
    },
    {
      "cell_type": "markdown",
      "metadata": {
        "id": "qvuGBZ3pH8tP",
        "colab_type": "text"
      },
      "source": [
        "Histograms for the large and medium stores. These will show how many times each store had specific numbers of customers."
      ]
    },
    {
      "cell_type": "code",
      "metadata": {
        "id": "wUZZGWzcIF3d",
        "colab_type": "code",
        "colab": {}
      },
      "source": [
        "x_min = 275\n",
        "x_max = 1600\n",
        "bin_width = 60\n",
        "n_bins = int((bin_width + x_max - x_min) / bin_width)\n",
        "print(str(n_bins) + ' bins')\n",
        "bins = [(x_min + x * (bin_width + x_max - x_min) / n_bins) for x in range(int(n_bins))]\n",
        "#print(bins)\n",
        "\n",
        "fig = plt.figure(figsize=(12, 12))\n",
        "fig.suptitle('Large Stores', fontsize=20, position=(0.5, 1.0))\n",
        "counter = 1\n",
        "for name in Large_Stores:\n",
        "  sub = fig.add_subplot(2, 2, counter)\n",
        "  sub.hist(data_DailyCustomers[name], bins, edgecolor='w')\n",
        "  sub.set_title(name, fontsize=10)\n",
        "  sub.set_xlim(xmin=x_min, xmax=x_max)\n",
        "  sub.set_ylim(ymin=0, ymax=140)\n",
        "  counter += 1\n",
        "plt.show()"
      ],
      "execution_count": null,
      "outputs": []
    },
    {
      "cell_type": "code",
      "metadata": {
        "id": "g-W9gTU3I6wR",
        "colab_type": "code",
        "colab": {}
      },
      "source": [
        "x_min = 100\n",
        "x_max = 700\n",
        "bin_width = 35\n",
        "n_bins = int((bin_width + x_max - x_min) / bin_width)\n",
        "print(str(n_bins) + ' bins')\n",
        "bins = [(x_min + x * (bin_width + x_max - x_min) / n_bins) for x in range(int(n_bins))]\n",
        "#print(bins)\n",
        "\n",
        "fig = plt.figure(figsize=(12, 12))\n",
        "fig.suptitle('Medium Stores', fontsize=20, position=(0.5, 1.0))\n",
        "counter = 1\n",
        "for name in Medium_Stores:\n",
        "  sub = fig.add_subplot(3, 3, counter)\n",
        "  sub.hist(data_DailyCustomers[name], bins, edgecolor='w')\n",
        "  sub.set_title(name, fontsize=10)\n",
        "  sub.set_xlim(xmin=x_min, xmax=x_max)\n",
        "  sub.set_ylim(ymin=0, ymax=140)\n",
        "  counter += 1\n",
        "plt.subplots_adjust(wspace=0.4, hspace=0.4)\n",
        "plt.show()"
      ],
      "execution_count": null,
      "outputs": []
    },
    {
      "cell_type": "markdown",
      "metadata": {
        "id": "AxxAyn8PsJiO",
        "colab_type": "text"
      },
      "source": [
        "Autocorrelation for the high and medium customer stores. These plots will illuminate if each daily data point is correlated to the other data points. Additionaly, these plots may illustrate seasonality amongst the stores."
      ]
    },
    {
      "cell_type": "code",
      "metadata": {
        "id": "kW4ewLVcsMQF",
        "colab_type": "code",
        "colab": {}
      },
      "source": [
        "for name in Large_Stores:\n",
        "    pd.plotting.autocorrelation_plot(data_DailyCustomers[name])\n",
        "    #plt.xlim([0, 60]) # uncomment this line to zoom in\n",
        "    plt.title(name)\n",
        "    plt.show()"
      ],
      "execution_count": null,
      "outputs": []
    },
    {
      "cell_type": "code",
      "metadata": {
        "id": "HkeGt1HUsYJE",
        "colab_type": "code",
        "colab": {}
      },
      "source": [
        "for name in Medium_Stores:\n",
        "    plt.xlim([0, 60]) # uncomment this line to zoom in\n",
        "    pd.plotting.autocorrelation_plot(data_DailyCustomers[name])\n",
        "    plt.title(name)\n",
        "    plt.show()"
      ],
      "execution_count": null,
      "outputs": []
    },
    {
      "cell_type": "markdown",
      "metadata": {
        "id": "73R3xtHRwL8J",
        "colab_type": "text"
      },
      "source": [
        "Radar subplots for the large and medium stores. The data from all datafiles are compiled into a dataframe to be visualised together. The goal of these plots is to shed light on correlations that may exist between the metrics: daily customers, store marketing, store overheads, store size, and store staff."
      ]
    },
    {
      "cell_type": "code",
      "metadata": {
        "id": "BzpgToBswQBv",
        "colab_type": "code",
        "colab": {}
      },
      "source": [
        "data_DailyCustomers = pd.read_csv('DailyCustomers.csv', index_col=0)\n",
        "data_Marketing = pd.read_csv('StoreMarketing.csv', index_col=0)\n",
        "data_Overheads = pd.read_csv('StoreOverheads.csv', index_col=0)\n",
        "data_Size = pd.read_csv('StoreSize.csv', index_col=0)\n",
        "data_Staff = pd.read_csv('StoreStaff.csv', index_col=0)\n",
        "\n",
        "data_summary = pd.DataFrame(index=data_DailyCustomers.columns)\n",
        "data_summary['Customers'] = data_DailyCustomers.sum().values\n",
        "data_summary['Marketing'] = data_Marketing.values\n",
        "data_summary['Size'] = data_Size.values\n",
        "data_summary['Staff'] = data_Staff.values\n",
        "data_summary['Overheads'] = data_Overheads.values\n",
        "\n",
        "data_normalised = data_summary / data_summary.loc[Large_Stores].max()\n",
        "\n",
        "n_attributes = len(data_normalised.columns)\n",
        "angles = [n / float(n_attributes) * 2 * np.pi for n in range(n_attributes + 1)]\n",
        "plt.figure(figsize=(8, 8))\n",
        "counter = 1\n",
        "for name in Large_Stores:\n",
        "  values = data_normalised.loc[[name]].values.flatten().tolist()\n",
        "  values += values[:1]\n",
        "  sub = plt.subplot(2, 2, counter, polar=True)\n",
        "  sub.plot(angles, values)\n",
        "  sub.fill(angles, values, alpha=0.1)\n",
        "  sub.set_ylim(ymax=1.05)\n",
        "  sub.set_yticks([0.2, 0.4, 0.6, 0.8, 1.0])\n",
        "  sub.set_xticks(angles)\n",
        "  sub.set_xticklabels(data_normalised.columns, fontsize=12)\n",
        "  sub.set_title(name, fontsize=16, y=1.1)\n",
        "  counter += 1\n",
        "plt.tight_layout()\n",
        "plt.show()"
      ],
      "execution_count": null,
      "outputs": []
    },
    {
      "cell_type": "code",
      "metadata": {
        "id": "B8mQ3r9gx_hC",
        "colab_type": "code",
        "colab": {}
      },
      "source": [
        "data_normalised = data_summary / data_summary.loc[Medium_Stores].max()\n",
        "\n",
        "n_attributes = len(data_normalised.columns)\n",
        "angles = [n / float(n_attributes) * 2 * np.pi for n in range(n_attributes + 1)]\n",
        "plt.figure(figsize=(8, 8))\n",
        "counter = 1\n",
        "for name in Medium_Stores:\n",
        "  values = data_normalised.loc[[name]].values.flatten().tolist()\n",
        "  values += values[:1]\n",
        "  sub = plt.subplot(3, 3, counter, polar=True)\n",
        "  sub.plot(angles, values)\n",
        "  sub.fill(angles, values, alpha=0.1)\n",
        "  sub.set_ylim(ymax=1.05)\n",
        "  sub.set_yticks([0.2, 0.4, 0.6, 0.8])\n",
        "  sub.set_xticks(angles)\n",
        "  sub.set_xticklabels(data_normalised.columns, fontsize=12)\n",
        "  sub.set_title(name, fontsize=16, y=1.1)\n",
        "  counter += 1\n",
        "plt.tight_layout()\n",
        "plt.show()"
      ],
      "execution_count": null,
      "outputs": []
    },
    {
      "cell_type": "markdown",
      "metadata": {
        "id": "qEpLiSQUxMud",
        "colab_type": "text"
      },
      "source": [
        "Radar subplots for the small stores."
      ]
    },
    {
      "cell_type": "code",
      "metadata": {
        "id": "DVj8kdwHtdze",
        "colab_type": "code",
        "colab": {}
      },
      "source": [
        "data_normalised = data_summary / data_summary.loc[Small_Stores].max()\n",
        "\n",
        "n_attributes = len(data_normalised.columns)\n",
        "angles = [n / float(n_attributes) * 2 * np.pi for n in range(n_attributes + 1)]\n",
        "plt.figure(figsize=(20, 20))\n",
        "counter = 1\n",
        "for name in Small_Stores:\n",
        "  values = data_normalised.loc[[name]].values.flatten().tolist()\n",
        "  values += values[:1]\n",
        "  sub = plt.subplot(7, 4, counter, polar=True)\n",
        "  sub.plot(angles, values)\n",
        "  sub.fill(angles, values, alpha=0.1)\n",
        "  sub.set_ylim(ymax=1.05)\n",
        "  sub.set_yticks([0.2, 0.4, 0.6, 0.8])\n",
        "  sub.set_xticks(angles)\n",
        "  sub.set_xticklabels(data_normalised.columns, fontsize=12)\n",
        "  sub.set_title(name, fontsize=16, y=1.1)\n",
        "  counter += 1\n",
        "plt.tight_layout()\n",
        "plt.show()"
      ],
      "execution_count": null,
      "outputs": []
    },
    {
      "cell_type": "markdown",
      "metadata": {
        "id": "2GU_x-iU13vB",
        "colab_type": "text"
      },
      "source": [
        "Pair-plot of the metrics using the dataframe created in the previous segment. These plots will more precisely show how strong the correlations are between the metrics."
      ]
    },
    {
      "cell_type": "code",
      "metadata": {
        "id": "VyCB7jq62AL8",
        "colab_type": "code",
        "colab": {}
      },
      "source": [
        "sns.pairplot(data_summary, height=1.75, plot_kws={'s': 20})\n",
        "plt.show()"
      ],
      "execution_count": null,
      "outputs": []
    },
    {
      "cell_type": "markdown",
      "metadata": {
        "id": "ip3Hhil03Fud",
        "colab_type": "text"
      },
      "source": [
        "Heatmap of the metrics using the same dataframe. This plot will show Pearson Coefficients providing numeric values indicating the strength (or weakness) of the correlations between the metrics."
      ]
    },
    {
      "cell_type": "code",
      "metadata": {
        "id": "b7BEj-_n3ZMl",
        "colab_type": "code",
        "colab": {}
      },
      "source": [
        "plt.figure(figsize=(12, 12))\n",
        "corr = data_summary.corr()\n",
        "ax = sns.heatmap(corr, vmin=-1, vmax=1, center=0, cmap=sns.diverging_palette(220, 20, n=200), square=True, annot=True, annot_kws={\"size\": 8})\n",
        "ax.set_xticklabels(ax.get_xticklabels(), rotation=45, horizontalalignment='right')\n",
        "plt.show()"
      ],
      "execution_count": null,
      "outputs": []
    },
    {
      "cell_type": "markdown",
      "metadata": {
        "id": "MV0G5evY4ALt",
        "colab_type": "text"
      },
      "source": [
        "Bubble plot for the large and medium stores. This plot displays the correlation between the size of the stores and the number of customers shopping there. The size of the bubble is determined by the amount each store spends on marketing annually. The labels for each bubble have been written vertically to prevent them from overlapping each other."
      ]
    },
    {
      "cell_type": "code",
      "metadata": {
        "id": "fyRdXSnJ4EDk",
        "colab_type": "code",
        "colab": {}
      },
      "source": [
        "large_and_medium = Large_Stores + Medium_Stores\n",
        "data_summary['BubbleSize'] = data_summary['Marketing'] * 0.1\n",
        "data_summary = data_summary.loc[large_and_medium]\n",
        "\n",
        "plt.figure(figsize=(12, 12))\n",
        "plt.scatter(data_summary['Size'], data_summary['Customers'], s=data_summary['BubbleSize'], alpha=0.5)\n",
        "plt.xticks([500, 1000, 2000, 3000, 4000, 5000, 6000])\n",
        "plt.yticks([100000, 150000, 200000, 250000, 300000, 350000, 400000])\n",
        "plt.xlim(500)\n",
        "plt.ylim(100000)\n",
        "plt.title('Store Size vs Annual Customers (vs Annual Marketing)', fontsize=20)\n",
        "plt.xlabel('Store Size (meters squared)', fontsize=18)\n",
        "plt.ylabel('Annual Customers', fontsize=18)\n",
        "for i, name in enumerate(data_summary.index):\n",
        "  plt.annotate(name + ' (£' + np.array2string(np.around(data_summary['Marketing'][i], decimals=2)) + ')',\n",
        "               (data_summary['Size'][i], data_summary['Customers'][i]), rotation=270) # remove rotation for horizontal labels\n",
        "plt.plot([0, 0], [0, 0], linestyle=':', color='r', label='')\n",
        "plt.show()"
      ],
      "execution_count": null,
      "outputs": []
    },
    {
      "cell_type": "markdown",
      "metadata": {
        "id": "Zp6ni5O0ARO1",
        "colab_type": "text"
      },
      "source": [
        "Interactive Bubble plot for all of the stores. This again shows the correlation between store size and number of customers with bubble size determined by marketing. The vertical toolbar to the right of the plot allows interaction with the plot."
      ]
    },
    {
      "cell_type": "code",
      "metadata": {
        "id": "2Ps3rEqFAduz",
        "colab_type": "code",
        "colab": {}
      },
      "source": [
        "data_summary = pd.DataFrame(index=data_DailyCustomers.columns)\n",
        "data_summary['Customers'] = data_DailyCustomers.sum().values\n",
        "data_summary['Marketing'] = data_Marketing.values\n",
        "data_summary['Size'] = data_Size.values\n",
        "data_summary['Staff'] = data_Staff.values\n",
        "data_summary['Overheads'] = data_Overheads.values\n",
        "\n",
        "data_summary['BubbleSize'] = data_summary['Marketing'] * 0.1\n",
        "\n",
        "plot = data_summary.hvplot.scatter(\n",
        "    frame_height=600, frame_width=600,\n",
        "    title='Store Size vs Annual Customers (vs Annual Marketing (£))',\n",
        "    xlabel='Store Size (meters squared)', ylabel='Annual Customers',\n",
        "    alpha=0.5, padding=0.1, hover_cols='all',\n",
        "    x='Size', y='Customers', size='BubbleSize'\n",
        ")\n",
        "hvplot.show(plot)"
      ],
      "execution_count": null,
      "outputs": []
    },
    {
      "cell_type": "markdown",
      "metadata": {
        "id": "OuJXF-rmEhNA",
        "colab_type": "text"
      },
      "source": [
        "Interactive Bubble Plot showing the correlation between store size and number of customers but with bubble size determined by the number of staff members at each store."
      ]
    },
    {
      "cell_type": "code",
      "metadata": {
        "id": "fSQTXt7fEFDP",
        "colab_type": "code",
        "colab": {}
      },
      "source": [
        "data_summary['BubbleSize'] = data_summary['Staff'] * 40\n",
        "\n",
        "plot = data_summary.hvplot.scatter(\n",
        "    frame_height=600, frame_width=600,\n",
        "    title='Store Size vs Annual Customers (vs Staff Members)',\n",
        "    xlabel='Store Size (meters squared)', ylabel='Annual Customers',\n",
        "    alpha=0.5, padding=0.1, hover_cols='all',\n",
        "    x='Size', y='Customers', size='BubbleSize'\n",
        ")\n",
        "hvplot.show(plot)"
      ],
      "execution_count": null,
      "outputs": []
    },
    {
      "cell_type": "markdown",
      "metadata": {
        "id": "5T9Via4uoKkC",
        "colab_type": "text"
      },
      "source": [
        "Interactive Bubble Plot showing the correlation between store size and number of customers but with bubble size determined by the annual amount spend on overheads from each store."
      ]
    },
    {
      "cell_type": "code",
      "metadata": {
        "id": "mel_cC1lEzCm",
        "colab_type": "code",
        "colab": {}
      },
      "source": [
        "data_summary['BubbleSize'] = data_summary['Overheads'] * 0.01\n",
        "\n",
        "plot = data_summary.hvplot.scatter(\n",
        "    frame_height=600, frame_width=600,\n",
        "    title='Store Size vs Annual Customers (vs Annual Overhead (£))',\n",
        "    xlabel='Store Size (meters squared)', ylabel='Annual Customers',\n",
        "    alpha=0.5, padding=0.1, hover_cols='all',\n",
        "    x='Size', y='Customers', size='BubbleSize'\n",
        ")\n",
        "hvplot.show(plot)"
      ],
      "execution_count": null,
      "outputs": []
    }
  ]
}